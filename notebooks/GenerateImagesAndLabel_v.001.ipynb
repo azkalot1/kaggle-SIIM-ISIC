{
 "cells": [
  {
   "cell_type": "code",
   "execution_count": null,
   "metadata": {},
   "outputs": [],
   "source": [
    "import sys\n",
    "sys.path.append('../')\n",
    "from src.GANs import WGAN_GP\n",
    "import torch\n",
    "from torchvision import utils\n",
    "import matplotlib.pyplot as plt\n",
    "from src.pl_module import MelanomaModel\n",
    "import albumentations as A\n",
    "import numpy as np\n",
    "import torch.nn as nn\n",
    "from tqdm.auto import tqdm\n",
    "from catalyst.utils import set_global_seed\n",
    "import skimage.io\n",
    "import pandas as pd\n",
    "%matplotlib inline"
   ]
  },
  {
   "cell_type": "markdown",
   "metadata": {},
   "source": [
    "This is and example of unconditional GAN"
   ]
  },
  {
   "cell_type": "code",
   "execution_count": null,
   "metadata": {},
   "outputs": [],
   "source": [
    "model = WGAN_GP()"
   ]
  },
  {
   "cell_type": "code",
   "execution_count": null,
   "metadata": {},
   "outputs": [],
   "source": [
    "def load_model(model_name: str, model_type: str, weights: str):\n",
    "    model = MelanomaModel.net_mapping(model_name, model_type)\n",
    "    model.load_state_dict(\n",
    "        torch.load(weights)\n",
    "    )\n",
    "    model.eval()\n",
    "    model.cuda()\n",
    "    print(\"Loaded model {} from checkpoint {}\".format(model_name, weights))\n",
    "    return model\n",
    "\n",
    "def get_valid_transforms():\n",
    "    return A.Compose(\n",
    "        [\n",
    "            A.Normalize()\n",
    "        ],\n",
    "        p=1.0)\n",
    "model_name_list = ['resnest26d'] * 5\n",
    "model_type_list = ['SingleHeadMax'] * 5\n",
    "weights_list = [f'../weights/resnest26d_128x128_fold{x}.pth' for x in range(5)]\n",
    "models = [load_model(model_name, model_type, weights) for model_name, model_type, weights in \n",
    "          zip(model_name_list, model_type_list, weights_list)]\n",
    "valid_norm = get_valid_transforms()"
   ]
  },
  {
   "cell_type": "code",
   "execution_count": null,
   "metadata": {},
   "outputs": [],
   "source": [
    "model.G.load_state_dict(torch.load('../GANs_weights/generator_2550.pkl'))"
   ]
  },
  {
   "cell_type": "code",
   "execution_count": null,
   "metadata": {},
   "outputs": [],
   "source": [
    "batch_size = 256\n",
    "total_generate_images = 500000\n",
    "n_rounds_generation = total_generate_images // batch_size"
   ]
  },
  {
   "cell_type": "code",
   "execution_count": null,
   "metadata": {},
   "outputs": [],
   "source": [
    "image_names_list = []\n",
    "image_class_list = []\n",
    "output_folder = '/data/personal_folders/skolchenko/kaggle_melanoma/generated_data_v.001/'\n",
    "set_global_seed(42)\n",
    "for genround in tqdm(range(n_rounds_generation)):\n",
    "    z = model.get_torch_variable(torch.randn(batch_size, 100, 1, 1))\n",
    "    generated_images = model.G(z)\n",
    "    generated_images = generated_images.mul(0.5).add(0.5)\n",
    "    generated_images = (255*generated_images).int()\n",
    "    generated_images = generated_images.detach().cpu().numpy().transpose(0, 2, 3, 1)\n",
    "    normalized_generated_images = [valid_norm(image=image)['image'] for image in generated_images]\n",
    "    normalized_generated_images = np.stack(normalized_generated_images)\n",
    "    normalized_generated_images = normalized_generated_images.transpose(0, 3, 1, 2)\n",
    "    normalized_generated_images = torch.from_numpy(normalized_generated_images)\n",
    "    with torch.no_grad():\n",
    "        preds = [nn.Sigmoid()(model(normalized_generated_images.cuda())) for model in models]\n",
    "        preds = torch.stack(preds)    \n",
    "    cls_1_pred = preds.mean(axis=0)[:, 1].cpu().numpy()\n",
    "    image_names = [output_folder+f'generated_{x+genround*batch_size}.jpg' for x in range(batch_size)]\n",
    "    for idx in range(batch_size):\n",
    "        skimage.io.imsave(fname=image_names[idx], arr=generated_images[idx].astype(np.uint8))\n",
    "    image_class_list.extend(cls_1_pred)\n",
    "    image_names_list.extend(image_names)\n",
    "#f, ax = plt.subplots(1, 1, figsize=(20,20))\n",
    "#ax.imshow(utils.make_grid(generated_images).detach().cpu().numpy().transpose(1,2,0))"
   ]
  },
  {
   "cell_type": "markdown",
   "metadata": {},
   "source": [
    "Now make data frame with generated data"
   ]
  },
  {
   "cell_type": "code",
   "execution_count": null,
   "metadata": {},
   "outputs": [],
   "source": [
    "generated_data_csv = pd.DataFrame({\n",
    "    'image_name': ['generated_' + x.split('/')[-1].split('.')[0] for x in image_names_list], \n",
    "    'target': image_class_list})\n",
    "generated_data_csv.head()"
   ]
  },
  {
   "cell_type": "code",
   "execution_count": null,
   "metadata": {},
   "outputs": [],
   "source": [
    "generated_data_csv.to_csv('../data/generated_data_v.001.csv', index=False)"
   ]
  }
 ],
 "metadata": {
  "kernelspec": {
   "display_name": "Python 3.7.5 64-bit ('deeplearning': conda)",
   "language": "python",
   "name": "python37564bitdeeplearningconda2f5dcc693383402099797ed40bd3951d"
  },
  "language_info": {
   "codemirror_mode": {
    "name": "ipython",
    "version": 3
   },
   "file_extension": ".py",
   "mimetype": "text/x-python",
   "name": "python",
   "nbconvert_exporter": "python",
   "pygments_lexer": "ipython3",
   "version": "3.7.6"
  }
 },
 "nbformat": 4,
 "nbformat_minor": 2
}
