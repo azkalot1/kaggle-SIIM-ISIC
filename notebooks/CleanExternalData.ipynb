{
 "cells": [
  {
   "cell_type": "markdown",
   "metadata": {},
   "source": [
    "Let's look how can we combbine old competition data with the current one. For that we can do two things first:\n",
    "- Run binary classification old vs new data. In ideal case samples coming from the new and old data shouldn't be separated.\n",
    "- Since we have label (0\\1) for each of sample of the old data, we can take models, trained only on new data and see how coherent the predictions are on the old data"
   ]
  },
  {
   "cell_type": "code",
   "execution_count": 1,
   "metadata": {},
   "outputs": [],
   "source": [
    "import sys\n",
    "sys.path.append('../')\n",
    "import warnings\n",
    "from torch.utils.data import DataLoader, Dataset\n",
    "from src.pl_module import MelanomaModel\n",
    "import pandas as pd\n",
    "import torch\n",
    "import torch.nn as nn\n",
    "from typing import Tuple\n",
    "import albumentations as A\n",
    "from tqdm.auto import tqdm\n",
    "import skimage.io\n",
    "import numpy as np\n",
    "import matplotlib.pyplot as plt\n",
    "warnings.filterwarnings(\"ignore\")"
   ]
  },
  {
   "cell_type": "markdown",
   "metadata": {},
   "source": [
    "Load trained models and make dataset"
   ]
  },
  {
   "cell_type": "code",
   "execution_count": 2,
   "metadata": {},
   "outputs": [],
   "source": [
    "def load_model(model_name: str, model_type: str, weights: str):\n",
    "    model = MelanomaModel.net_mapping(model_name, model_type)\n",
    "    model.load_state_dict(\n",
    "        torch.load(weights)\n",
    "    )\n",
    "    model.eval()\n",
    "    model.cuda()\n",
    "    print(\"Loaded model {} from checkpoint {}\".format(model_name, weights))\n",
    "    return model\n",
    "\n",
    "class MelanomaDataset(Dataset):\n",
    "    def __init__(self, image_folder, df, transform=None):\n",
    "        super().__init__()\n",
    "        self.image_folder = image_folder\n",
    "        self.df = df\n",
    "        self.transform = transform\n",
    "\n",
    "    def __len__(self) -> int:\n",
    "        return self.df.shape[0]\n",
    "\n",
    "    def __getitem__(self, index) -> Tuple[torch.Tensor, torch.Tensor]:\n",
    "        row = self.df.iloc[index]\n",
    "        img_id = row.image_name\n",
    "        img_path = f\"{self.image_folder}/{img_id}.jpg\"\n",
    "        image = skimage.io.imread(img_path)\n",
    "        if self.transform is not None:\n",
    "            image = self.transform(image=image)['image']\n",
    "        image = image.transpose(2, 0, 1)\n",
    "        image = torch.from_numpy(image)\n",
    "        target = row.target\n",
    "        return{'features': image, 'img_id': img_id, 'target': target}\n",
    "\n",
    "\n",
    "def get_valid_transforms():\n",
    "    return A.Compose(\n",
    "        [\n",
    "            A.Normalize()\n",
    "        ],\n",
    "        p=1.0)"
   ]
  },
  {
   "cell_type": "code",
   "execution_count": 3,
   "metadata": {},
   "outputs": [
    {
     "data": {
      "text/html": [
       "<div>\n",
       "<style scoped>\n",
       "    .dataframe tbody tr th:only-of-type {\n",
       "        vertical-align: middle;\n",
       "    }\n",
       "\n",
       "    .dataframe tbody tr th {\n",
       "        vertical-align: top;\n",
       "    }\n",
       "\n",
       "    .dataframe thead th {\n",
       "        text-align: right;\n",
       "    }\n",
       "</style>\n",
       "<table border=\"1\" class=\"dataframe\">\n",
       "  <thead>\n",
       "    <tr style=\"text-align: right;\">\n",
       "      <th></th>\n",
       "      <th>image_name</th>\n",
       "      <th>patient_id</th>\n",
       "      <th>sex</th>\n",
       "      <th>age_approx</th>\n",
       "      <th>anatom_site_general_challenge</th>\n",
       "      <th>diagnosis</th>\n",
       "      <th>benign_malignant</th>\n",
       "      <th>target</th>\n",
       "      <th>tfrecord</th>\n",
       "      <th>width</th>\n",
       "      <th>height</th>\n",
       "    </tr>\n",
       "  </thead>\n",
       "  <tbody>\n",
       "    <tr>\n",
       "      <th>0</th>\n",
       "      <td>ISIC_0000000</td>\n",
       "      <td>-1</td>\n",
       "      <td>female</td>\n",
       "      <td>55.0</td>\n",
       "      <td>anterior torso</td>\n",
       "      <td>NV</td>\n",
       "      <td>benign</td>\n",
       "      <td>0</td>\n",
       "      <td>4</td>\n",
       "      <td>1022</td>\n",
       "      <td>767</td>\n",
       "    </tr>\n",
       "    <tr>\n",
       "      <th>1</th>\n",
       "      <td>ISIC_0000001</td>\n",
       "      <td>-1</td>\n",
       "      <td>female</td>\n",
       "      <td>30.0</td>\n",
       "      <td>anterior torso</td>\n",
       "      <td>NV</td>\n",
       "      <td>benign</td>\n",
       "      <td>0</td>\n",
       "      <td>18</td>\n",
       "      <td>1022</td>\n",
       "      <td>767</td>\n",
       "    </tr>\n",
       "    <tr>\n",
       "      <th>2</th>\n",
       "      <td>ISIC_0000002</td>\n",
       "      <td>-1</td>\n",
       "      <td>female</td>\n",
       "      <td>60.0</td>\n",
       "      <td>upper extremity</td>\n",
       "      <td>MEL</td>\n",
       "      <td>malignant</td>\n",
       "      <td>1</td>\n",
       "      <td>0</td>\n",
       "      <td>1022</td>\n",
       "      <td>767</td>\n",
       "    </tr>\n",
       "    <tr>\n",
       "      <th>3</th>\n",
       "      <td>ISIC_0000003</td>\n",
       "      <td>-1</td>\n",
       "      <td>male</td>\n",
       "      <td>30.0</td>\n",
       "      <td>upper extremity</td>\n",
       "      <td>NV</td>\n",
       "      <td>benign</td>\n",
       "      <td>0</td>\n",
       "      <td>24</td>\n",
       "      <td>1022</td>\n",
       "      <td>767</td>\n",
       "    </tr>\n",
       "    <tr>\n",
       "      <th>4</th>\n",
       "      <td>ISIC_0000004</td>\n",
       "      <td>-1</td>\n",
       "      <td>male</td>\n",
       "      <td>80.0</td>\n",
       "      <td>posterior torso</td>\n",
       "      <td>MEL</td>\n",
       "      <td>malignant</td>\n",
       "      <td>1</td>\n",
       "      <td>14</td>\n",
       "      <td>1022</td>\n",
       "      <td>767</td>\n",
       "    </tr>\n",
       "  </tbody>\n",
       "</table>\n",
       "</div>"
      ],
      "text/plain": [
       "     image_name  patient_id     sex  age_approx anatom_site_general_challenge  \\\n",
       "0  ISIC_0000000          -1  female        55.0                anterior torso   \n",
       "1  ISIC_0000001          -1  female        30.0                anterior torso   \n",
       "2  ISIC_0000002          -1  female        60.0               upper extremity   \n",
       "3  ISIC_0000003          -1    male        30.0               upper extremity   \n",
       "4  ISIC_0000004          -1    male        80.0               posterior torso   \n",
       "\n",
       "  diagnosis benign_malignant  target  tfrecord  width  height  \n",
       "0        NV           benign       0         4   1022     767  \n",
       "1        NV           benign       0        18   1022     767  \n",
       "2       MEL        malignant       1         0   1022     767  \n",
       "3        NV           benign       0        24   1022     767  \n",
       "4       MEL        malignant       1        14   1022     767  "
      ]
     },
     "execution_count": 3,
     "metadata": {},
     "output_type": "execute_result"
    }
   ],
   "source": [
    "old_data = pd.read_csv('../data/external_train.csv')\n",
    "old_data.head()"
   ]
  },
  {
   "cell_type": "code",
   "execution_count": 5,
   "metadata": {},
   "outputs": [
    {
     "name": "stdout",
     "output_type": "stream",
     "text": [
      "Loaded model resnet50 from checkpoint ../weights/train_128_frompretrain_balancedW_resnet50_fold0_heavyaugs_averaged_best_weights.pth\n",
      "Loaded model resnet50 from checkpoint ../weights/train_128_frompretrain_balancedW_resnet50_fold1_heavyaugs_averaged_best_weights.pth\n",
      "Loaded model resnet50 from checkpoint ../weights/train_128_frompretrain_balancedW_resnet50_fold2_heavyaugs_averaged_best_weights.pth\n",
      "Loaded model resnet50 from checkpoint ../weights/train_128_frompretrain_balancedW_resnet50_fold3_heavyaugs_averaged_best_weights.pth\n",
      "Loaded model resnet50 from checkpoint ../weights/train_128_frompretrain_balancedW_resnet50_fold4_heavyaugs_averaged_best_weights.pth\n"
     ]
    }
   ],
   "source": [
    "model_name_list = ['resnet50'] * 5\n",
    "model_type_list = ['SingleHeadMax'] * 5\n",
    "weights_list = [f'../weights/train_128_frompretrain_balancedW_resnet50_fold{x}_heavyaugs_averaged_best_weights.pth' for x in range(5)]\n",
    "models = [load_model(model_name, model_type, weights) for model_name, model_type, weights in \n",
    "          zip(model_name_list, model_type_list, weights_list)]"
   ]
  },
  {
   "cell_type": "code",
   "execution_count": 7,
   "metadata": {},
   "outputs": [],
   "source": [
    "dataset = MelanomaDataset('../data/jpeg-isic2019-128x128/train/', old_data, get_valid_transforms())\n",
    "dataloader = DataLoader(dataset, batch_size=16, shuffle=False, num_workers=4)"
   ]
  },
  {
   "cell_type": "code",
   "execution_count": 9,
   "metadata": {},
   "outputs": [
    {
     "data": {
      "application/vnd.jupyter.widget-view+json": {
       "model_id": "8dc94aabe95d46bd98ddc9e47311be7a",
       "version_major": 2,
       "version_minor": 0
      },
      "text/plain": [
       "HBox(children=(FloatProgress(value=0.0, max=1580.0), HTML(value='')))"
      ]
     },
     "metadata": {},
     "output_type": "display_data"
    },
    {
     "name": "stdout",
     "output_type": "stream",
     "text": [
      "\n"
     ]
    }
   ],
   "source": [
    "targets_list = []\n",
    "cv_cls_1_list = []\n",
    "mean_cls_1_list = []\n",
    "std_cls_1_list = []\n",
    "for batch in tqdm(dataloader, total=len(dataloader)):\n",
    "    with torch.no_grad():\n",
    "        preds = [nn.Sigmoid()(model(batch['features'].cuda())) for model in models]\n",
    "        preds = torch.stack(preds)\n",
    "        mean_cls_1 = preds[..., 0].cpu().numpy().mean(axis=0)\n",
    "        std_cls_1 = preds[..., 0].cpu().numpy().std(axis=0)\n",
    "        cv_cls_1 = std_cls_1 / mean_cls_1\n",
    "        targets_list.extend(batch['target'].cpu().numpy())\n",
    "        mean_cls_1_list.extend(mean_cls_1)\n",
    "        cv_cls_1_list.extend(cv_cls_1)\n",
    "        std_cls_1_list.extend(std_cls_1)"
   ]
  },
  {
   "cell_type": "code",
   "execution_count": 10,
   "metadata": {},
   "outputs": [],
   "source": [
    "targets_list = np.array(targets_list)\n",
    "cv_cls_1_list = np.array(cv_cls_1_list)\n",
    "mean_cls_1_list = np.array(mean_cls_1_list)\n",
    "std_cls_1_list = np.array(std_cls_1_list)"
   ]
  },
  {
   "cell_type": "code",
   "execution_count": 11,
   "metadata": {},
   "outputs": [],
   "source": [
    "thr_pred = 0.5\n",
    "predicted_cls = (mean_cls_1_list >= thr_pred).astype(int)"
   ]
  },
  {
   "cell_type": "code",
   "execution_count": 12,
   "metadata": {},
   "outputs": [
    {
     "data": {
      "image/png": "[encoded data removed]",
      "text/plain": [
       "<Figure size 1080x720 with 6 Axes>"
      ]
     },
     "metadata": {
      "needs_background": "light"
     },
     "output_type": "display_data"
    }
   ],
   "source": [
    "f, ax = plt.subplots(2, 3, figsize=(15, 10))\n",
    "ax[0, 0].hist(cv_cls_1_list[targets_list==1])\n",
    "ax[0, 0].set_title('CV predictions of samples with gt == 1')\n",
    "ax[0, 1].hist(mean_cls_1_list[targets_list==1])\n",
    "ax[0, 1].set_title('mean predictions of samples with gt == 1')\n",
    "ax[0, 2].hist(std_cls_1_list[targets_list==1])\n",
    "ax[0, 2].set_title('SD predictions of samples with gt == 1')\n",
    "ax[1, 0].hist(cv_cls_1_list[targets_list==0])\n",
    "ax[1, 0].set_title('CV predictions of samples with gt == 0')\n",
    "ax[1, 1].hist(mean_cls_1_list[targets_list==0])\n",
    "ax[1, 1].set_title('mean predictions of samples with gt == 0');\n",
    "ax[1, 2].hist(std_cls_1_list[targets_list==0])\n",
    "ax[1, 2].set_title('SD predictions of samples with gt == 0');\n",
    "#plt.hist(cv_cls_1_list);"
   ]
  },
  {
   "cell_type": "markdown",
   "metadata": {},
   "source": [
    "We can take only confident predictions, that is CV <= 0.5 for both classes + predicted class  == gt class"
   ]
  },
  {
   "cell_type": "code",
   "execution_count": 13,
   "metadata": {},
   "outputs": [
    {
     "data": {
      "text/html": [
       "<div>\n",
       "<style scoped>\n",
       "    .dataframe tbody tr th:only-of-type {\n",
       "        vertical-align: middle;\n",
       "    }\n",
       "\n",
       "    .dataframe tbody tr th {\n",
       "        vertical-align: top;\n",
       "    }\n",
       "\n",
       "    .dataframe thead th {\n",
       "        text-align: right;\n",
       "    }\n",
       "</style>\n",
       "<table border=\"1\" class=\"dataframe\">\n",
       "  <thead>\n",
       "    <tr style=\"text-align: right;\">\n",
       "      <th></th>\n",
       "      <th>image_name</th>\n",
       "      <th>patient_id</th>\n",
       "      <th>sex</th>\n",
       "      <th>age_approx</th>\n",
       "      <th>anatom_site_general_challenge</th>\n",
       "      <th>diagnosis</th>\n",
       "      <th>benign_malignant</th>\n",
       "      <th>target</th>\n",
       "      <th>tfrecord</th>\n",
       "      <th>width</th>\n",
       "      <th>height</th>\n",
       "      <th>predicted_target</th>\n",
       "      <th>prediction_mean</th>\n",
       "      <th>CV</th>\n",
       "      <th>std</th>\n",
       "    </tr>\n",
       "  </thead>\n",
       "  <tbody>\n",
       "    <tr>\n",
       "      <th>0</th>\n",
       "      <td>ISIC_0000000</td>\n",
       "      <td>-1</td>\n",
       "      <td>female</td>\n",
       "      <td>55.0</td>\n",
       "      <td>anterior torso</td>\n",
       "      <td>NV</td>\n",
       "      <td>benign</td>\n",
       "      <td>0</td>\n",
       "      <td>4</td>\n",
       "      <td>1022</td>\n",
       "      <td>767</td>\n",
       "      <td>1</td>\n",
       "      <td>0.798460</td>\n",
       "      <td>0.088039</td>\n",
       "      <td>0.070296</td>\n",
       "    </tr>\n",
       "    <tr>\n",
       "      <th>1</th>\n",
       "      <td>ISIC_0000001</td>\n",
       "      <td>-1</td>\n",
       "      <td>female</td>\n",
       "      <td>30.0</td>\n",
       "      <td>anterior torso</td>\n",
       "      <td>NV</td>\n",
       "      <td>benign</td>\n",
       "      <td>0</td>\n",
       "      <td>18</td>\n",
       "      <td>1022</td>\n",
       "      <td>767</td>\n",
       "      <td>0</td>\n",
       "      <td>0.335782</td>\n",
       "      <td>0.630693</td>\n",
       "      <td>0.211776</td>\n",
       "    </tr>\n",
       "    <tr>\n",
       "      <th>2</th>\n",
       "      <td>ISIC_0000002</td>\n",
       "      <td>-1</td>\n",
       "      <td>female</td>\n",
       "      <td>60.0</td>\n",
       "      <td>upper extremity</td>\n",
       "      <td>MEL</td>\n",
       "      <td>malignant</td>\n",
       "      <td>1</td>\n",
       "      <td>0</td>\n",
       "      <td>1022</td>\n",
       "      <td>767</td>\n",
       "      <td>0</td>\n",
       "      <td>0.409521</td>\n",
       "      <td>0.556476</td>\n",
       "      <td>0.227889</td>\n",
       "    </tr>\n",
       "    <tr>\n",
       "      <th>3</th>\n",
       "      <td>ISIC_0000003</td>\n",
       "      <td>-1</td>\n",
       "      <td>male</td>\n",
       "      <td>30.0</td>\n",
       "      <td>upper extremity</td>\n",
       "      <td>NV</td>\n",
       "      <td>benign</td>\n",
       "      <td>0</td>\n",
       "      <td>24</td>\n",
       "      <td>1022</td>\n",
       "      <td>767</td>\n",
       "      <td>1</td>\n",
       "      <td>0.833085</td>\n",
       "      <td>0.215319</td>\n",
       "      <td>0.179379</td>\n",
       "    </tr>\n",
       "    <tr>\n",
       "      <th>4</th>\n",
       "      <td>ISIC_0000004</td>\n",
       "      <td>-1</td>\n",
       "      <td>male</td>\n",
       "      <td>80.0</td>\n",
       "      <td>posterior torso</td>\n",
       "      <td>MEL</td>\n",
       "      <td>malignant</td>\n",
       "      <td>1</td>\n",
       "      <td>14</td>\n",
       "      <td>1022</td>\n",
       "      <td>767</td>\n",
       "      <td>1</td>\n",
       "      <td>0.862475</td>\n",
       "      <td>0.065979</td>\n",
       "      <td>0.056905</td>\n",
       "    </tr>\n",
       "  </tbody>\n",
       "</table>\n",
       "</div>"
      ],
      "text/plain": [
       "     image_name  patient_id     sex  age_approx anatom_site_general_challenge  \\\n",
       "0  ISIC_0000000          -1  female        55.0                anterior torso   \n",
       "1  ISIC_0000001          -1  female        30.0                anterior torso   \n",
       "2  ISIC_0000002          -1  female        60.0               upper extremity   \n",
       "3  ISIC_0000003          -1    male        30.0               upper extremity   \n",
       "4  ISIC_0000004          -1    male        80.0               posterior torso   \n",
       "\n",
       "  diagnosis benign_malignant  target  tfrecord  width  height  \\\n",
       "0        NV           benign       0         4   1022     767   \n",
       "1        NV           benign       0        18   1022     767   \n",
       "2       MEL        malignant       1         0   1022     767   \n",
       "3        NV           benign       0        24   1022     767   \n",
       "4       MEL        malignant       1        14   1022     767   \n",
       "\n",
       "   predicted_target  prediction_mean        CV       std  \n",
       "0                 1         0.798460  0.088039  0.070296  \n",
       "1                 0         0.335782  0.630693  0.211776  \n",
       "2                 0         0.409521  0.556476  0.227889  \n",
       "3                 1         0.833085  0.215319  0.179379  \n",
       "4                 1         0.862475  0.065979  0.056905  "
      ]
     },
     "execution_count": 13,
     "metadata": {},
     "output_type": "execute_result"
    }
   ],
   "source": [
    "old_data.loc[:, 'predicted_target'] = predicted_cls\n",
    "old_data.loc[:, 'prediction_mean'] = mean_cls_1_list\n",
    "old_data.loc[:, 'CV'] = cv_cls_1_list\n",
    "old_data.loc[:, 'std'] = std_cls_1_list\n",
    "old_data.head()"
   ]
  },
  {
   "cell_type": "code",
   "execution_count": 16,
   "metadata": {},
   "outputs": [],
   "source": [
    "selection_mask = (cv_cls_1_list <= 0.5) & (predicted_cls == targets_list)"
   ]
  },
  {
   "cell_type": "code",
   "execution_count": 17,
   "metadata": {},
   "outputs": [
    {
     "data": {
      "text/html": [
       "<div>\n",
       "<style scoped>\n",
       "    .dataframe tbody tr th:only-of-type {\n",
       "        vertical-align: middle;\n",
       "    }\n",
       "\n",
       "    .dataframe tbody tr th {\n",
       "        vertical-align: top;\n",
       "    }\n",
       "\n",
       "    .dataframe thead th {\n",
       "        text-align: right;\n",
       "    }\n",
       "</style>\n",
       "<table border=\"1\" class=\"dataframe\">\n",
       "  <thead>\n",
       "    <tr style=\"text-align: right;\">\n",
       "      <th></th>\n",
       "      <th>image_name</th>\n",
       "      <th>patient_id</th>\n",
       "      <th>sex</th>\n",
       "      <th>age_approx</th>\n",
       "      <th>anatom_site_general_challenge</th>\n",
       "      <th>diagnosis</th>\n",
       "      <th>benign_malignant</th>\n",
       "      <th>target</th>\n",
       "      <th>tfrecord</th>\n",
       "      <th>width</th>\n",
       "      <th>height</th>\n",
       "      <th>predicted_target</th>\n",
       "      <th>prediction_mean</th>\n",
       "      <th>CV</th>\n",
       "      <th>std</th>\n",
       "    </tr>\n",
       "  </thead>\n",
       "  <tbody>\n",
       "    <tr>\n",
       "      <th>4</th>\n",
       "      <td>ISIC_0000004</td>\n",
       "      <td>-1</td>\n",
       "      <td>male</td>\n",
       "      <td>80.0</td>\n",
       "      <td>posterior torso</td>\n",
       "      <td>MEL</td>\n",
       "      <td>malignant</td>\n",
       "      <td>1</td>\n",
       "      <td>14</td>\n",
       "      <td>1022</td>\n",
       "      <td>767</td>\n",
       "      <td>1</td>\n",
       "      <td>0.862475</td>\n",
       "      <td>0.065979</td>\n",
       "      <td>0.056905</td>\n",
       "    </tr>\n",
       "    <tr>\n",
       "      <th>12</th>\n",
       "      <td>ISIC_0000013</td>\n",
       "      <td>-1</td>\n",
       "      <td>female</td>\n",
       "      <td>30.0</td>\n",
       "      <td>posterior torso</td>\n",
       "      <td>MEL</td>\n",
       "      <td>malignant</td>\n",
       "      <td>1</td>\n",
       "      <td>20</td>\n",
       "      <td>1022</td>\n",
       "      <td>767</td>\n",
       "      <td>1</td>\n",
       "      <td>0.820183</td>\n",
       "      <td>0.132737</td>\n",
       "      <td>0.108869</td>\n",
       "    </tr>\n",
       "    <tr>\n",
       "      <th>16</th>\n",
       "      <td>ISIC_0000017_downsampled</td>\n",
       "      <td>-1</td>\n",
       "      <td>female</td>\n",
       "      <td>50.0</td>\n",
       "      <td>posterior torso</td>\n",
       "      <td>NV</td>\n",
       "      <td>benign</td>\n",
       "      <td>0</td>\n",
       "      <td>24</td>\n",
       "      <td>1024</td>\n",
       "      <td>768</td>\n",
       "      <td>0</td>\n",
       "      <td>0.099237</td>\n",
       "      <td>0.429394</td>\n",
       "      <td>0.042612</td>\n",
       "    </tr>\n",
       "    <tr>\n",
       "      <th>19</th>\n",
       "      <td>ISIC_0000020_downsampled</td>\n",
       "      <td>-1</td>\n",
       "      <td>female</td>\n",
       "      <td>25.0</td>\n",
       "      <td>anterior torso</td>\n",
       "      <td>NV</td>\n",
       "      <td>benign</td>\n",
       "      <td>0</td>\n",
       "      <td>16</td>\n",
       "      <td>1024</td>\n",
       "      <td>768</td>\n",
       "      <td>0</td>\n",
       "      <td>0.121401</td>\n",
       "      <td>0.465302</td>\n",
       "      <td>0.056488</td>\n",
       "    </tr>\n",
       "    <tr>\n",
       "      <th>28</th>\n",
       "      <td>ISIC_0000029_downsampled</td>\n",
       "      <td>-1</td>\n",
       "      <td>female</td>\n",
       "      <td>45.0</td>\n",
       "      <td>posterior torso</td>\n",
       "      <td>MEL</td>\n",
       "      <td>malignant</td>\n",
       "      <td>1</td>\n",
       "      <td>12</td>\n",
       "      <td>1024</td>\n",
       "      <td>768</td>\n",
       "      <td>1</td>\n",
       "      <td>0.982383</td>\n",
       "      <td>0.016626</td>\n",
       "      <td>0.016333</td>\n",
       "    </tr>\n",
       "  </tbody>\n",
       "</table>\n",
       "</div>"
      ],
      "text/plain": [
       "                  image_name  patient_id     sex  age_approx  \\\n",
       "4               ISIC_0000004          -1    male        80.0   \n",
       "12              ISIC_0000013          -1  female        30.0   \n",
       "16  ISIC_0000017_downsampled          -1  female        50.0   \n",
       "19  ISIC_0000020_downsampled          -1  female        25.0   \n",
       "28  ISIC_0000029_downsampled          -1  female        45.0   \n",
       "\n",
       "   anatom_site_general_challenge diagnosis benign_malignant  target  tfrecord  \\\n",
       "4                posterior torso       MEL        malignant       1        14   \n",
       "12               posterior torso       MEL        malignant       1        20   \n",
       "16               posterior torso        NV           benign       0        24   \n",
       "19                anterior torso        NV           benign       0        16   \n",
       "28               posterior torso       MEL        malignant       1        12   \n",
       "\n",
       "    width  height  predicted_target  prediction_mean        CV       std  \n",
       "4    1022     767                 1         0.862475  0.065979  0.056905  \n",
       "12   1022     767                 1         0.820183  0.132737  0.108869  \n",
       "16   1024     768                 0         0.099237  0.429394  0.042612  \n",
       "19   1024     768                 0         0.121401  0.465302  0.056488  \n",
       "28   1024     768                 1         0.982383  0.016626  0.016333  "
      ]
     },
     "execution_count": 17,
     "metadata": {},
     "output_type": "execute_result"
    }
   ],
   "source": [
    "old_data_cleaned = old_data.loc[selection_mask, :]\n",
    "old_data_cleaned.head()"
   ]
  },
  {
   "cell_type": "code",
   "execution_count": 18,
   "metadata": {},
   "outputs": [
    {
     "data": {
      "text/plain": [
       "1    3483\n",
       "0    1865\n",
       "Name: target, dtype: int64"
      ]
     },
     "execution_count": 18,
     "metadata": {},
     "output_type": "execute_result"
    }
   ],
   "source": [
    "old_data_cleaned.target.value_counts()"
   ]
  },
  {
   "cell_type": "code",
   "execution_count": 19,
   "metadata": {},
   "outputs": [
    {
     "data": {
      "text/plain": [
       "0    20763\n",
       "1     4509\n",
       "Name: target, dtype: int64"
      ]
     },
     "execution_count": 19,
     "metadata": {},
     "output_type": "execute_result"
    }
   ],
   "source": [
    "old_data.target.value_counts()"
   ]
  },
  {
   "cell_type": "code",
   "execution_count": 20,
   "metadata": {},
   "outputs": [],
   "source": [
    "old_data_cleaned.to_csv('../data/external_train_cleaned.csv', index=False)"
   ]
  },
  {
   "cell_type": "markdown",
   "metadata": {},
   "source": [
    "Check class distrubution in original data"
   ]
  },
  {
   "cell_type": "code",
   "execution_count": null,
   "metadata": {},
   "outputs": [],
   "source": [
    "new_data = pd.read_csv('../data/train.csv')\n",
    "new_data.head()"
   ]
  },
  {
   "cell_type": "code",
   "execution_count": null,
   "metadata": {},
   "outputs": [],
   "source": [
    "new_data.target.value_counts()"
   ]
  },
  {
   "cell_type": "code",
   "execution_count": null,
   "metadata": {},
   "outputs": [],
   "source": [
    "new_data.diagnosis.value_counts()"
   ]
  },
  {
   "cell_type": "code",
   "execution_count": null,
   "metadata": {},
   "outputs": [],
   "source": [
    "pd.crosstab(new_data.target, new_data.diagnosis)"
   ]
  },
  {
   "cell_type": "code",
   "execution_count": null,
   "metadata": {},
   "outputs": [],
   "source": [
    "old_data_cleaned.diagnosis.value_counts()"
   ]
  },
  {
   "cell_type": "code",
   "execution_count": null,
   "metadata": {},
   "outputs": [],
   "source": [
    "pd.crosstab(old_data_cleaned.target, old_data_cleaned.diagnosis)"
   ]
  },
  {
   "cell_type": "code",
   "execution_count": null,
   "metadata": {},
   "outputs": [],
   "source": [
    "pd.crosstab(old_data.target, old_data.diagnosis)"
   ]
  }
 ],
 "metadata": {
  "kernelspec": {
   "display_name": "Python 3.7.5 64-bit ('deeplearning': conda)",
   "language": "python",
   "name": "python37564bitdeeplearningconda2f5dcc693383402099797ed40bd3951d"
  },
  "language_info": {
   "codemirror_mode": {
    "name": "ipython",
    "version": 3
   },
   "file_extension": ".py",
   "mimetype": "text/x-python",
   "name": "python",
   "nbconvert_exporter": "python",
   "pygments_lexer": "ipython3",
   "version": "3.7.6"
  }
 },
 "nbformat": 4,
 "nbformat_minor": 2
}
