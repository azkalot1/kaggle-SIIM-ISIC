{
 "cells": [
  {
   "cell_type": "code",
   "execution_count": null,
   "metadata": {},
   "outputs": [],
   "source": [
    "import sys\n",
    "sys.path.append('../')\n",
    "import warnings\n",
    "from torch.utils.data import DataLoader, Dataset\n",
    "from src.pl_module import MelanomaModel\n",
    "import pandas as pd\n",
    "import torch\n",
    "import torch.nn as nn\n",
    "from typing import Tuple\n",
    "import albumentations as A\n",
    "from tqdm.auto import tqdm\n",
    "import skimage.io\n",
    "import numpy as np\n",
    "import matplotlib.pyplot as plt\n",
    "warnings.filterwarnings(\"ignore\")"
   ]
  },
  {
   "cell_type": "code",
   "execution_count": null,
   "metadata": {},
   "outputs": [],
   "source": [
    "def load_model(model_name: str, model_type: str, weights: str):\n",
    "    print('Loading {}'.format(model_name))\n",
    "    model = MelanomaModel.net_mapping(model_name, model_type)\n",
    "    model.load_state_dict(\n",
    "        torch.load(weights)\n",
    "    )\n",
    "    model.eval()\n",
    "    model.cuda()\n",
    "    print(\"Loaded model {} from checkpoint {}\".format(model_name, weights))\n",
    "    return model\n",
    "\n",
    "class MelanomaDataset(Dataset):\n",
    "    def __init__(self, image_folder, df, transform=None):\n",
    "        super().__init__()\n",
    "        self.image_folder = image_folder\n",
    "        self.df = df\n",
    "        self.transform = transform\n",
    "\n",
    "    def __len__(self) -> int:\n",
    "        return self.df.shape[0]\n",
    "\n",
    "    def __getitem__(self, index) -> Tuple[torch.Tensor, torch.Tensor]:\n",
    "        row = self.df.iloc[index]\n",
    "        img_id = row.image_name\n",
    "        img_path = f\"{self.image_folder}/{img_id}.jpg\"\n",
    "        image = skimage.io.imread(img_path)\n",
    "        if self.transform is not None:\n",
    "            image = self.transform(image=image)['image']\n",
    "        image = image.transpose(2, 0, 1)\n",
    "        image = torch.from_numpy(image)\n",
    "        return{'features': image, 'img_id': img_id}\n",
    "\n",
    "\n",
    "def get_valid_transforms():\n",
    "    return A.Compose(\n",
    "        [\n",
    "            A.Normalize()\n",
    "        ],\n",
    "        p=1.0)"
   ]
  },
  {
   "cell_type": "code",
   "execution_count": null,
   "metadata": {},
   "outputs": [],
   "source": [
    "data = pd.read_csv('../data/test.csv')\n",
    "data.head()"
   ]
  },
  {
   "cell_type": "code",
   "execution_count": null,
   "metadata": {},
   "outputs": [],
   "source": [
    "model_name_list = [\n",
    "    'resnest50d', \n",
    "    'resnest269e', \n",
    "    'resnest101e', \n",
    "    #'seresnext101_32x4d', \n",
    "    'tf_efficientnet_b3_ns', \n",
    "    'tf_efficientnet_b7_ns', \n",
    "    'tf_efficientnet_b5_ns']\n",
    "model_type_list = ['SingleHeadMax'] * len(model_name_list)\n",
    "weights_list = [\n",
    "    '../weights/train_384_balancedW_resnest50d_fold0_heavyaugs_averaged_best_weights.pth',\n",
    "    '../weights/07.09_train_384_balancedW_resnest269e_heavyaugs_averaged_best_weights.pth',\n",
    "    '../weights/03.09_train_384_balancedW_resnest101e_fold0_heavyaugs_averaged_best_weights.pth',\n",
    "    #'../weights/06.18_train_384_balancedW_seresnext101_32x4d_fold0_heavyaugs_averaged_best_weights.pth',\n",
    "    '../weights/06.10_train_384_balancedW_b3_fold0_heavyaugs_averaged_best_weights.pth',\n",
    "    '../weights/05.23_train_384_balancedW_b7_fold0_heavyaugs_averaged_best_weights.pth',\n",
    "    '../weights/03.18_train_384_balancedW_b5_fold0_heavyaugs_averaged_best_weights.pth'\n",
    "]\n",
    "models = [load_model(model_name, model_type, weights) for model_name, model_type, weights in \n",
    "          zip(model_name_list, model_type_list, weights_list)]"
   ]
  },
  {
   "cell_type": "code",
   "execution_count": null,
   "metadata": {},
   "outputs": [],
   "source": [
    "dataset = MelanomaDataset('../data/jpeg-melanoma-384x384/test/', data, get_valid_transforms())\n",
    "dataloader = DataLoader(dataset, batch_size=16, shuffle=False, num_workers=4)"
   ]
  },
  {
   "cell_type": "code",
   "execution_count": null,
   "metadata": {},
   "outputs": [],
   "source": [
    "mean_cls_1_list = []\n",
    "for batch in tqdm(dataloader, total=len(dataloader)):\n",
    "    with torch.no_grad():\n",
    "        preds = [nn.Sigmoid()(model(batch['features'].cuda())) for model in models]\n",
    "        preds = torch.stack(preds)\n",
    "        mean_cls_1 = preds[..., 0].cpu().numpy().mean(axis=0)\n",
    "        mean_cls_1_list.extend(mean_cls_1)"
   ]
  },
  {
   "cell_type": "code",
   "execution_count": null,
   "metadata": {},
   "outputs": [],
   "source": [
    "data['target'] = mean_cls_1_list\n",
    "data.to_csv('../data/labeled_test.csv', index=False)"
   ]
  }
 ],
 "metadata": {
  "kernelspec": {
   "display_name": "Python 3.7.5 64-bit ('deeplearning': conda)",
   "language": "python",
   "name": "python37564bitdeeplearningconda2f5dcc693383402099797ed40bd3951d"
  },
  "language_info": {
   "codemirror_mode": {
    "name": "ipython",
    "version": 3
   },
   "file_extension": ".py",
   "mimetype": "text/x-python",
   "name": "python",
   "nbconvert_exporter": "python",
   "pygments_lexer": "ipython3",
   "version": "3.7.8"
  }
 },
 "nbformat": 4,
 "nbformat_minor": 2
}
